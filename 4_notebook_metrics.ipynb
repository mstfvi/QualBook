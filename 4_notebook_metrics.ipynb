{
 "cells": [
  {
   "cell_type": "code",
   "execution_count": 14,
   "id": "e0b5fe19",
   "metadata": {},
   "outputs": [],
   "source": [
    "import pandas as pd\n",
    "from tqdm import tqdm\n",
    "tqdm.pandas()"
   ]
  },
  {
   "cell_type": "markdown",
   "id": "b2b9fb1c",
   "metadata": {},
   "source": [
    "### aggregate code cells"
   ]
  },
  {
   "cell_type": "code",
   "execution_count": 11,
   "id": "61bb6e0d",
   "metadata": {},
   "outputs": [
    {
     "name": "stderr",
     "output_type": "stream",
     "text": [
      "C:\\Users\\MMGH\\AppData\\Local\\Temp\\ipykernel_12596\\1147468702.py:1: DtypeWarning: Columns (2,3,5) have mixed types. Specify dtype option on import or set low_memory=False.\n",
      "  code_df = pd.read_csv('D:/Th/data/KGT_metrics/Code_cell_metrics.csv')\n"
     ]
    }
   ],
   "source": [
    "code_df = pd.read_csv('D:/Th/data/KGT_metrics/Code_cell_metrics.csv')"
   ]
  },
  {
   "cell_type": "code",
   "execution_count": 20,
   "id": "16e33303",
   "metadata": {},
   "outputs": [
    {
     "data": {
      "text/html": [
       "<div>\n",
       "<style scoped>\n",
       "    .dataframe tbody tr th:only-of-type {\n",
       "        vertical-align: middle;\n",
       "    }\n",
       "\n",
       "    .dataframe tbody tr th {\n",
       "        vertical-align: top;\n",
       "    }\n",
       "\n",
       "    .dataframe thead th {\n",
       "        text-align: right;\n",
       "    }\n",
       "</style>\n",
       "<table border=\"1\" class=\"dataframe\">\n",
       "  <thead>\n",
       "    <tr style=\"text-align: right;\">\n",
       "      <th></th>\n",
       "      <th>Unnamed: 0</th>\n",
       "      <th>project_name</th>\n",
       "      <th>project_ID</th>\n",
       "      <th>cell_index</th>\n",
       "      <th>source</th>\n",
       "      <th>output_type</th>\n",
       "      <th>execution_count</th>\n",
       "      <th>LOC</th>\n",
       "      <th>BLC</th>\n",
       "      <th>UDF</th>\n",
       "      <th>...</th>\n",
       "      <th>OPRND</th>\n",
       "      <th>OPRATOR</th>\n",
       "      <th>UOPRND</th>\n",
       "      <th>UOPRATOR</th>\n",
       "      <th>ID</th>\n",
       "      <th>ALID</th>\n",
       "      <th>MLID</th>\n",
       "      <th>LOCom</th>\n",
       "      <th>CW</th>\n",
       "      <th>CyC</th>\n",
       "    </tr>\n",
       "  </thead>\n",
       "  <tbody>\n",
       "    <tr>\n",
       "      <th>0</th>\n",
       "      <td>0</td>\n",
       "      <td>kerneler_starter-portrait-segmentation-b08b391...</td>\n",
       "      <td>11413234</td>\n",
       "      <td>3.0</td>\n",
       "      <td>from mpl_toolkits.mplot3d import Axes3D\\nfrom ...</td>\n",
       "      <td>NaN</td>\n",
       "      <td>1.0</td>\n",
       "      <td>7</td>\n",
       "      <td>0</td>\n",
       "      <td>0</td>\n",
       "      <td>...</td>\n",
       "      <td>4</td>\n",
       "      <td>1</td>\n",
       "      <td>4</td>\n",
       "      <td>1</td>\n",
       "      <td>30</td>\n",
       "      <td>5</td>\n",
       "      <td>14</td>\n",
       "      <td>4</td>\n",
       "      <td>13</td>\n",
       "      <td>1</td>\n",
       "    </tr>\n",
       "    <tr>\n",
       "      <th>1</th>\n",
       "      <td>1</td>\n",
       "      <td>kerneler_starter-portrait-segmentation-b08b391...</td>\n",
       "      <td>11413234</td>\n",
       "      <td>5.0</td>\n",
       "      <td>for dirname, _, filenames in os.walk('/kaggle/...</td>\n",
       "      <td>stream</td>\n",
       "      <td>2.0</td>\n",
       "      <td>4</td>\n",
       "      <td>0</td>\n",
       "      <td>0</td>\n",
       "      <td>...</td>\n",
       "      <td>8</td>\n",
       "      <td>4</td>\n",
       "      <td>8</td>\n",
       "      <td>2</td>\n",
       "      <td>15</td>\n",
       "      <td>5</td>\n",
       "      <td>9</td>\n",
       "      <td>0</td>\n",
       "      <td>0</td>\n",
       "      <td>3</td>\n",
       "    </tr>\n",
       "    <tr>\n",
       "      <th>2</th>\n",
       "      <td>2</td>\n",
       "      <td>kerneler_starter-portrait-segmentation-b08b391...</td>\n",
       "      <td>11413234</td>\n",
       "      <td>7.0</td>\n",
       "      <td># Distribution graphs (histogram/bar graph) of...</td>\n",
       "      <td>NaN</td>\n",
       "      <td>3.0</td>\n",
       "      <td>22</td>\n",
       "      <td>0</td>\n",
       "      <td>1</td>\n",
       "      <td>...</td>\n",
       "      <td>63</td>\n",
       "      <td>29</td>\n",
       "      <td>60</td>\n",
       "      <td>9</td>\n",
       "      <td>105</td>\n",
       "      <td>5</td>\n",
       "      <td>25</td>\n",
       "      <td>2</td>\n",
       "      <td>20</td>\n",
       "      <td>1</td>\n",
       "    </tr>\n",
       "    <tr>\n",
       "      <th>3</th>\n",
       "      <td>3</td>\n",
       "      <td>kerneler_starter-portrait-segmentation-b08b391...</td>\n",
       "      <td>11413234</td>\n",
       "      <td>8.0</td>\n",
       "      <td># Correlation matrix\\ndef plotCorrelationMatri...</td>\n",
       "      <td>NaN</td>\n",
       "      <td>4.0</td>\n",
       "      <td>18</td>\n",
       "      <td>0</td>\n",
       "      <td>1</td>\n",
       "      <td>...</td>\n",
       "      <td>49</td>\n",
       "      <td>19</td>\n",
       "      <td>46</td>\n",
       "      <td>7</td>\n",
       "      <td>103</td>\n",
       "      <td>5</td>\n",
       "      <td>21</td>\n",
       "      <td>3</td>\n",
       "      <td>16</td>\n",
       "      <td>1</td>\n",
       "    </tr>\n",
       "    <tr>\n",
       "      <th>4</th>\n",
       "      <td>4</td>\n",
       "      <td>kerneler_starter-portrait-segmentation-b08b391...</td>\n",
       "      <td>11413234</td>\n",
       "      <td>9.0</td>\n",
       "      <td># Scatter and density plots\\ndef plotScatterMa...</td>\n",
       "      <td>NaN</td>\n",
       "      <td>5.0</td>\n",
       "      <td>17</td>\n",
       "      <td>0</td>\n",
       "      <td>1</td>\n",
       "      <td>...</td>\n",
       "      <td>47</td>\n",
       "      <td>28</td>\n",
       "      <td>45</td>\n",
       "      <td>6</td>\n",
       "      <td>118</td>\n",
       "      <td>5</td>\n",
       "      <td>17</td>\n",
       "      <td>5</td>\n",
       "      <td>41</td>\n",
       "      <td>1</td>\n",
       "    </tr>\n",
       "  </tbody>\n",
       "</table>\n",
       "<p>5 rows × 29 columns</p>\n",
       "</div>"
      ],
      "text/plain": [
       "   Unnamed: 0                                       project_name project_ID  \\\n",
       "0           0  kerneler_starter-portrait-segmentation-b08b391...   11413234   \n",
       "1           1  kerneler_starter-portrait-segmentation-b08b391...   11413234   \n",
       "2           2  kerneler_starter-portrait-segmentation-b08b391...   11413234   \n",
       "3           3  kerneler_starter-portrait-segmentation-b08b391...   11413234   \n",
       "4           4  kerneler_starter-portrait-segmentation-b08b391...   11413234   \n",
       "\n",
       "  cell_index                                             source output_type  \\\n",
       "0        3.0  from mpl_toolkits.mplot3d import Axes3D\\nfrom ...         NaN   \n",
       "1        5.0  for dirname, _, filenames in os.walk('/kaggle/...      stream   \n",
       "2        7.0  # Distribution graphs (histogram/bar graph) of...         NaN   \n",
       "3        8.0  # Correlation matrix\\ndef plotCorrelationMatri...         NaN   \n",
       "4        9.0  # Scatter and density plots\\ndef plotScatterMa...         NaN   \n",
       "\n",
       "   execution_count  LOC  BLC  UDF  ...  OPRND  OPRATOR  UOPRND  UOPRATOR   ID  \\\n",
       "0              1.0    7    0    0  ...      4        1       4         1   30   \n",
       "1              2.0    4    0    0  ...      8        4       8         2   15   \n",
       "2              3.0   22    0    1  ...     63       29      60         9  105   \n",
       "3              4.0   18    0    1  ...     49       19      46         7  103   \n",
       "4              5.0   17    0    1  ...     47       28      45         6  118   \n",
       "\n",
       "   ALID  MLID  LOCom  CW  CyC  \n",
       "0     5    14      4  13    1  \n",
       "1     5     9      0   0    3  \n",
       "2     5    25      2  20    1  \n",
       "3     5    21      3  16    1  \n",
       "4     5    17      5  41    1  \n",
       "\n",
       "[5 rows x 29 columns]"
      ]
     },
     "execution_count": 20,
     "metadata": {},
     "output_type": "execute_result"
    }
   ],
   "source": [
    "code_df.head()"
   ]
  },
  {
   "cell_type": "code",
   "execution_count": null,
   "id": "f0749bc3",
   "metadata": {},
   "outputs": [],
   "source": [
    "#cell_metrics.project_ID = cell_metrics.project_ID.astype(int)"
   ]
  },
  {
   "cell_type": "code",
   "execution_count": 134,
   "id": "40d20570",
   "metadata": {},
   "outputs": [],
   "source": [
    "pm1 = code_df[['project_ID','LOC', 'BLC', 'UDF', 'I', 'EH','NDD','NEC','S','P'\n",
    "               ,'OPRND','OPRATOR','UOPRND','UOPRATOR','ID','LOCom', 'EAP',\n",
    "               'CW']].groupby(by='project_ID').sum().reset_index()"
   ]
  },
  {
   "cell_type": "code",
   "execution_count": 57,
   "id": "12fb5b10",
   "metadata": {},
   "outputs": [],
   "source": [
    "pm2 =  code_df[['project_ID','ALID','LOC','ALLC','KLCID','CyC']].groupby(by='project_ID').mean().reset_index()\n",
    "pm2.rename(columns={'LOC': 'MeanLCC'}, inplace= True)"
   ]
  },
  {
   "cell_type": "code",
   "execution_count": 195,
   "id": "b2d48ac0",
   "metadata": {},
   "outputs": [],
   "source": [
    "pm3 =  code_df[['project_ID','MLID','NBD','ID']].groupby(by='project_ID').max().reset_index().rename(columns={'ID':'AID'})"
   ]
  },
  {
   "cell_type": "code",
   "execution_count": 185,
   "id": "172cd405",
   "metadata": {},
   "outputs": [],
   "source": [
    "pm4 = code_df[['project_ID', 'LOC']].groupby('project_ID').count().reset_index().rename(columns={'LOC':'CC'})"
   ]
  },
  {
   "cell_type": "code",
   "execution_count": 196,
   "id": "d10590ba",
   "metadata": {},
   "outputs": [],
   "source": [
    "notebook_cell1 = pd.concat([pm1, pm2.drop(columns=['project_ID']), \n",
    "                            pm3.drop(columns=['project_ID']), pm4.drop(columns=['project_ID'])], axis=1)"
   ]
  },
  {
   "cell_type": "markdown",
   "id": "53c106ee",
   "metadata": {},
   "source": [
    "### aggregate markdown cells"
   ]
  },
  {
   "cell_type": "code",
   "execution_count": null,
   "id": "e7bb50d5",
   "metadata": {},
   "outputs": [],
   "source": [
    "md_df = pd.read_csv('D:/Th/data/KGT_metrics/markdown_cell_metrics.csv')"
   ]
  },
  {
   "cell_type": "code",
   "execution_count": 84,
   "id": "1c046602",
   "metadata": {},
   "outputs": [],
   "source": [
    "qm1 = md_df[['project_ID', 'H1']].groupby('project_ID').count().reset_index().rename(columns={'H1': 'MC'})"
   ]
  },
  {
   "cell_type": "code",
   "execution_count": 91,
   "id": "cc12445f",
   "metadata": {},
   "outputs": [],
   "source": [
    "qm2 = md_df[['project_ID', 'MW', 'LMC']].groupby('project_ID').mean().reset_index().rename(columns={'MW':'MeanWMC', 'LMC':'MeanLMC'})"
   ]
  },
  {
   "cell_type": "code",
   "execution_count": 93,
   "id": "b6d935ad",
   "metadata": {},
   "outputs": [
    {
     "data": {
      "text/plain": [
       "Index(['Unnamed: 0', 'project_name', 'project_ID', 'cell_index', 'source',\n",
       "       'H1', 'H2', 'H3', 'MW', 'LMC'],\n",
       "      dtype='object')"
      ]
     },
     "execution_count": 93,
     "metadata": {},
     "output_type": "execute_result"
    }
   ],
   "source": [
    "md_df.columns"
   ]
  },
  {
   "cell_type": "code",
   "execution_count": 94,
   "id": "b89d3b09",
   "metadata": {},
   "outputs": [],
   "source": [
    "qm3 = md_df[['project_ID', 'H1', 'H2', 'H3', 'MW', 'LMC']].groupby('project_ID').sum().reset_index()"
   ]
  },
  {
   "cell_type": "code",
   "execution_count": 98,
   "id": "58e40585",
   "metadata": {},
   "outputs": [],
   "source": [
    "notebook_cell2 = pd.concat([qm1, qm2.drop(columns=['project_ID']), qm3.drop(columns=['project_ID'])], axis=1)"
   ]
  },
  {
   "cell_type": "code",
   "execution_count": 136,
   "id": "4a2da842",
   "metadata": {},
   "outputs": [
    {
     "data": {
      "text/html": [
       "<div>\n",
       "<style scoped>\n",
       "    .dataframe tbody tr th:only-of-type {\n",
       "        vertical-align: middle;\n",
       "    }\n",
       "\n",
       "    .dataframe tbody tr th {\n",
       "        vertical-align: top;\n",
       "    }\n",
       "\n",
       "    .dataframe thead th {\n",
       "        text-align: right;\n",
       "    }\n",
       "</style>\n",
       "<table border=\"1\" class=\"dataframe\">\n",
       "  <thead>\n",
       "    <tr style=\"text-align: right;\">\n",
       "      <th></th>\n",
       "      <th>project_ID</th>\n",
       "      <th>LOC</th>\n",
       "      <th>BLC</th>\n",
       "      <th>UDF</th>\n",
       "      <th>I</th>\n",
       "      <th>EH</th>\n",
       "      <th>NDD</th>\n",
       "      <th>NEC</th>\n",
       "      <th>S</th>\n",
       "      <th>P</th>\n",
       "      <th>...</th>\n",
       "      <th>LOCom</th>\n",
       "      <th>EAP</th>\n",
       "      <th>CW</th>\n",
       "      <th>ALID</th>\n",
       "      <th>MeanLCC</th>\n",
       "      <th>ALLC</th>\n",
       "      <th>KLCID</th>\n",
       "      <th>CyC</th>\n",
       "      <th>MLID</th>\n",
       "      <th>NBD</th>\n",
       "    </tr>\n",
       "  </thead>\n",
       "  <tbody>\n",
       "    <tr>\n",
       "      <th>0</th>\n",
       "      <td>1</td>\n",
       "      <td>0</td>\n",
       "      <td>1</td>\n",
       "      <td>0</td>\n",
       "      <td>0</td>\n",
       "      <td>0</td>\n",
       "      <td>0</td>\n",
       "      <td>0</td>\n",
       "      <td>0</td>\n",
       "      <td>0</td>\n",
       "      <td>...</td>\n",
       "      <td>0</td>\n",
       "      <td>0.0</td>\n",
       "      <td>0</td>\n",
       "      <td>3.0</td>\n",
       "      <td>0.0</td>\n",
       "      <td>0.0</td>\n",
       "      <td>1.0</td>\n",
       "      <td>1.0</td>\n",
       "      <td>3</td>\n",
       "      <td>0.0</td>\n",
       "    </tr>\n",
       "    <tr>\n",
       "      <th>1</th>\n",
       "      <td>2</td>\n",
       "      <td>0</td>\n",
       "      <td>5</td>\n",
       "      <td>0</td>\n",
       "      <td>0</td>\n",
       "      <td>0</td>\n",
       "      <td>0</td>\n",
       "      <td>0</td>\n",
       "      <td>0</td>\n",
       "      <td>0</td>\n",
       "      <td>...</td>\n",
       "      <td>0</td>\n",
       "      <td>0.0</td>\n",
       "      <td>0</td>\n",
       "      <td>3.0</td>\n",
       "      <td>0.0</td>\n",
       "      <td>0.0</td>\n",
       "      <td>1.0</td>\n",
       "      <td>1.0</td>\n",
       "      <td>3</td>\n",
       "      <td>0.0</td>\n",
       "    </tr>\n",
       "    <tr>\n",
       "      <th>2</th>\n",
       "      <td>3</td>\n",
       "      <td>0</td>\n",
       "      <td>3</td>\n",
       "      <td>0</td>\n",
       "      <td>0</td>\n",
       "      <td>0</td>\n",
       "      <td>0</td>\n",
       "      <td>0</td>\n",
       "      <td>0</td>\n",
       "      <td>0</td>\n",
       "      <td>...</td>\n",
       "      <td>0</td>\n",
       "      <td>0.0</td>\n",
       "      <td>0</td>\n",
       "      <td>3.0</td>\n",
       "      <td>0.0</td>\n",
       "      <td>0.0</td>\n",
       "      <td>1.0</td>\n",
       "      <td>1.0</td>\n",
       "      <td>3</td>\n",
       "      <td>0.0</td>\n",
       "    </tr>\n",
       "    <tr>\n",
       "      <th>3</th>\n",
       "      <td>4</td>\n",
       "      <td>0</td>\n",
       "      <td>1</td>\n",
       "      <td>0</td>\n",
       "      <td>0</td>\n",
       "      <td>0</td>\n",
       "      <td>0</td>\n",
       "      <td>0</td>\n",
       "      <td>0</td>\n",
       "      <td>0</td>\n",
       "      <td>...</td>\n",
       "      <td>0</td>\n",
       "      <td>0.0</td>\n",
       "      <td>0</td>\n",
       "      <td>3.0</td>\n",
       "      <td>0.0</td>\n",
       "      <td>0.0</td>\n",
       "      <td>1.0</td>\n",
       "      <td>1.0</td>\n",
       "      <td>3</td>\n",
       "      <td>0.0</td>\n",
       "    </tr>\n",
       "    <tr>\n",
       "      <th>4</th>\n",
       "      <td>5</td>\n",
       "      <td>0</td>\n",
       "      <td>3</td>\n",
       "      <td>0</td>\n",
       "      <td>0</td>\n",
       "      <td>0</td>\n",
       "      <td>0</td>\n",
       "      <td>0</td>\n",
       "      <td>0</td>\n",
       "      <td>0</td>\n",
       "      <td>...</td>\n",
       "      <td>0</td>\n",
       "      <td>0.0</td>\n",
       "      <td>0</td>\n",
       "      <td>3.0</td>\n",
       "      <td>0.0</td>\n",
       "      <td>0.0</td>\n",
       "      <td>1.0</td>\n",
       "      <td>1.0</td>\n",
       "      <td>3</td>\n",
       "      <td>0.0</td>\n",
       "    </tr>\n",
       "  </tbody>\n",
       "</table>\n",
       "<p>5 rows × 25 columns</p>\n",
       "</div>"
      ],
      "text/plain": [
       "  project_ID  LOC  BLC  UDF  I  EH  NDD  NEC  S  P  ...  LOCom  EAP  CW  ALID  \\\n",
       "0          1    0    1    0  0   0    0    0  0  0  ...      0  0.0   0   3.0   \n",
       "1          2    0    5    0  0   0    0    0  0  0  ...      0  0.0   0   3.0   \n",
       "2          3    0    3    0  0   0    0    0  0  0  ...      0  0.0   0   3.0   \n",
       "3          4    0    1    0  0   0    0    0  0  0  ...      0  0.0   0   3.0   \n",
       "4          5    0    3    0  0   0    0    0  0  0  ...      0  0.0   0   3.0   \n",
       "\n",
       "   MeanLCC  ALLC  KLCID  CyC  MLID  NBD  \n",
       "0      0.0   0.0    1.0  1.0     3  0.0  \n",
       "1      0.0   0.0    1.0  1.0     3  0.0  \n",
       "2      0.0   0.0    1.0  1.0     3  0.0  \n",
       "3      0.0   0.0    1.0  1.0     3  0.0  \n",
       "4      0.0   0.0    1.0  1.0     3  0.0  \n",
       "\n",
       "[5 rows x 25 columns]"
      ]
     },
     "execution_count": 136,
     "metadata": {},
     "output_type": "execute_result"
    }
   ],
   "source": [
    "notebook_cell1.head()"
   ]
  },
  {
   "cell_type": "markdown",
   "id": "78f75598",
   "metadata": {},
   "source": [
    "clean notebook cell metrics data"
   ]
  },
  {
   "cell_type": "code",
   "execution_count": 197,
   "id": "0d19aa78",
   "metadata": {},
   "outputs": [
    {
     "name": "stderr",
     "output_type": "stream",
     "text": [
      "C:\\Users\\MMGH\\AppData\\Local\\Temp\\ipykernel_12596\\3653846037.py:2: UserWarning: Boolean Series key will be reindexed to match DataFrame index.\n",
      "  notebook_cell2 = notebook_cell2[notebook_cell1.project_ID != 'train_emb']\n"
     ]
    }
   ],
   "source": [
    "notebook_cell1 = notebook_cell1[notebook_cell1.project_ID != 'train_emb']\n",
    "notebook_cell2 = notebook_cell2[notebook_cell1.project_ID != 'train_emb']\n",
    "notebook_cell1.project_ID =notebook_cell1['project_ID'].astype(int)\n",
    "notebook_cell2.project_ID =notebook_cell2['project_ID'].astype(int)\n",
    "notebook_cell1 = notebook_cell1[notebook_cell1['LOC'] > 1]"
   ]
  },
  {
   "cell_type": "markdown",
   "id": "227647ae",
   "metadata": {},
   "source": [
    "## load performance tier of notebook developers"
   ]
  },
  {
   "cell_type": "code",
   "execution_count": 178,
   "id": "8a005f87",
   "metadata": {},
   "outputs": [],
   "source": [
    "user_pt = pd.read_csv('D:/Th/data/user_pt.csv').rename(columns={'Id_x': 'project_ID', \n",
    "                                                               'PerformanceTier':'PT'}).drop(columns=['Unnamed: 0'])"
   ]
  },
  {
   "cell_type": "code",
   "execution_count": 198,
   "id": "a80fa7ea",
   "metadata": {},
   "outputs": [],
   "source": [
    "notebook_cell = notebook_cell1.merge(notebook_cell2, how='left').merge(user_pt, how='left').fillna(0)"
   ]
  },
  {
   "cell_type": "code",
   "execution_count": 199,
   "id": "4705df0e",
   "metadata": {},
   "outputs": [
    {
     "data": {
      "text/plain": [
       "Index(['project_ID', 'LOC', 'BLC', 'UDF', 'I', 'EH', 'NDD', 'NEC', 'S', 'P',\n",
       "       'OPRND', 'OPRATOR', 'UOPRND', 'UOPRATOR', 'ID', 'LOCom', 'EAP', 'CW',\n",
       "       'ALID', 'MeanLCC', 'ALLC', 'KLCID', 'CyC', 'MLID', 'NBD', 'AID', 'CC',\n",
       "       'MC', 'MeanWMC', 'MeanLMC', 'H1', 'H2', 'H3', 'MW', 'LMC', 'PT'],\n",
       "      dtype='object')"
      ]
     },
     "execution_count": 199,
     "metadata": {},
     "output_type": "execute_result"
    }
   ],
   "source": [
    "notebook_cell.columns"
   ]
  },
  {
   "cell_type": "code",
   "execution_count": 200,
   "id": "1c853b7e",
   "metadata": {},
   "outputs": [],
   "source": [
    "notebook_cell.to_csv('D:/Th/data/KGT_metrics/notebook_metrics.csv')"
   ]
  },
  {
   "cell_type": "code",
   "execution_count": 201,
   "id": "c299d31f",
   "metadata": {},
   "outputs": [
    {
     "data": {
      "text/plain": [
       "(245802, 36)"
      ]
     },
     "execution_count": 201,
     "metadata": {},
     "output_type": "execute_result"
    }
   ],
   "source": [
    "notebook_cell.shape"
   ]
  }
 ],
 "metadata": {
  "kernelspec": {
   "display_name": "Python 3 (ipykernel)",
   "language": "python",
   "name": "python3"
  },
  "language_info": {
   "codemirror_mode": {
    "name": "ipython",
    "version": 3
   },
   "file_extension": ".py",
   "mimetype": "text/x-python",
   "name": "python",
   "nbconvert_exporter": "python",
   "pygments_lexer": "ipython3",
   "version": "3.9.12"
  }
 },
 "nbformat": 4,
 "nbformat_minor": 5
}
