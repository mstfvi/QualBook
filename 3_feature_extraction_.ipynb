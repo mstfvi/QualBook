{
 "cells": [
  {
   "cell_type": "code",
   "execution_count": null,
   "id": "aede0e13",
   "metadata": {},
   "outputs": [],
   "source": [
    "import pandas as pd\n",
    "df = pd.read_csv('kg_codes_clean.csv')[['project_ID', 'source']]\n"
   ]
  },
  {
   "cell_type": "code",
   "execution_count": null,
   "id": "b4765cb0",
   "metadata": {},
   "outputs": [],
   "source": [
    "\n",
    "desired_width = 320\n",
    "pd.set_option('display.width', desired_width)\n",
    "pd.set_option('display.max_columns', 10)\n",
    "\n",
    "# read .csv files which contain code cells\n",
    "print(df.shape)\n",
    "\n",
    "# drop rows without source code\n",
    "df = df[df['source'].notna()]\n",
    "print(df.shape)\n",
    "\n",
    "df = df.groupby(['project_ID'])['source'].apply('\\n'.join).reset_index()\n",
    "\n",
    "df['LOC'] = df['source'].apply(lambda x: x.count('\\n') + 1)\n",
    "print(df.shape)\n",
    "df[['project_ID', 'LOC']].to_csv('Features/1.LOC.csv', index=False)\n",
    "# print(df.head(30))\n"
   ]
  },
  {
   "cell_type": "markdown",
   "id": "16a8d735",
   "metadata": {},
   "source": [
    "######"
   ]
  }
 ],
 "metadata": {
  "kernelspec": {
   "display_name": "Python 3 (ipykernel)",
   "language": "python",
   "name": "python3"
  },
  "language_info": {
   "codemirror_mode": {
    "name": "ipython",
    "version": 3
   },
   "file_extension": ".py",
   "mimetype": "text/x-python",
   "name": "python",
   "nbconvert_exporter": "python",
   "pygments_lexer": "ipython3",
   "version": "3.9.12"
  }
 },
 "nbformat": 4,
 "nbformat_minor": 5
}
