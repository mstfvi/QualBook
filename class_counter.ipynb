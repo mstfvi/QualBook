{
 "cells": [
  {
   "cell_type": "code",
   "execution_count": null,
   "id": "1aff94a5",
   "metadata": {},
   "outputs": [],
   "source": [
    "import pandas as pd\n",
    "zdf = pd.read_csv('D:/Th/data/KGT_metrics/Code_cell_metrics.csv')\n",
    "zdf['class_count'] = zdf['source'].apply(lambda x: str(x).count('class ', 0, 6))   \n",
    "aggregation_functions = {'class_count': 'sum', 'project_ID': 'first'}\n",
    "df_new = zdf.groupby(df['project_ID']).aggregate(aggregation_functions)\n",
    "df_new['class_exists'] = df_new['class_count'].apply(lambda x: 1 if x != 0 else 0)\n",
    "print('max percentage is:',df_new['class_exists'].sum() / len(df_new) * 100,'%')"
   ]
  },
  {
   "cell_type": "markdown",
   "id": "4992f5d3",
   "metadata": {},
   "source": [
    "max percentage is: 3.6%"
   ]
  }
 ],
 "metadata": {
  "kernelspec": {
   "display_name": "Python 3 (ipykernel)",
   "language": "python",
   "name": "python3"
  },
  "language_info": {
   "codemirror_mode": {
    "name": "ipython",
    "version": 3
   },
   "file_extension": ".py",
   "mimetype": "text/x-python",
   "name": "python",
   "nbconvert_exporter": "python",
   "pygments_lexer": "ipython3",
   "version": "3.9.12"
  }
 },
 "nbformat": 4,
 "nbformat_minor": 5
}
