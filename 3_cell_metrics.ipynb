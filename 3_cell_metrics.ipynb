{
 "cells": [
  {
   "cell_type": "markdown",
   "metadata": {},
   "source": [
    "## Load data and install packages"
   ]
  },
  {
   "cell_type": "code",
   "execution_count": 69,
   "metadata": {},
   "outputs": [],
   "source": [
    "import pandas as pd\n",
    "import re\n",
    "from tqdm import tqdm\n",
    "tqdm.pandas()"
   ]
  },
  {
   "cell_type": "code",
   "execution_count": null,
   "metadata": {},
   "outputs": [],
   "source": [
    "Code_df = pd.read_csv('D:/Th/data/KGT_with_no_output/KGT_codes.csv')"
   ]
  },
  {
   "cell_type": "code",
   "execution_count": 13,
   "metadata": {},
   "outputs": [
    {
     "data": {
      "text/html": [
       "<div>\n",
       "<style scoped>\n",
       "    .dataframe tbody tr th:only-of-type {\n",
       "        vertical-align: middle;\n",
       "    }\n",
       "\n",
       "    .dataframe tbody tr th {\n",
       "        vertical-align: top;\n",
       "    }\n",
       "\n",
       "    .dataframe thead th {\n",
       "        text-align: right;\n",
       "    }\n",
       "</style>\n",
       "<table border=\"1\" class=\"dataframe\">\n",
       "  <thead>\n",
       "    <tr style=\"text-align: right;\">\n",
       "      <th></th>\n",
       "      <th>Unnamed: 0</th>\n",
       "      <th>project_name</th>\n",
       "      <th>project_ID</th>\n",
       "      <th>cell_index</th>\n",
       "      <th>source</th>\n",
       "      <th>output_type</th>\n",
       "      <th>execution_count</th>\n",
       "    </tr>\n",
       "  </thead>\n",
       "  <tbody>\n",
       "    <tr>\n",
       "      <th>0</th>\n",
       "      <td>0</td>\n",
       "      <td>kerneler_starter-portrait-segmentation-b08b391...</td>\n",
       "      <td>11413234</td>\n",
       "      <td>3.0</td>\n",
       "      <td>from mpl_toolkits.mplot3d import Axes3D\\nfrom ...</td>\n",
       "      <td>NaN</td>\n",
       "      <td>1.0</td>\n",
       "    </tr>\n",
       "    <tr>\n",
       "      <th>1</th>\n",
       "      <td>1</td>\n",
       "      <td>kerneler_starter-portrait-segmentation-b08b391...</td>\n",
       "      <td>11413234</td>\n",
       "      <td>5.0</td>\n",
       "      <td>for dirname, _, filenames in os.walk('/kaggle/...</td>\n",
       "      <td>stream</td>\n",
       "      <td>2.0</td>\n",
       "    </tr>\n",
       "    <tr>\n",
       "      <th>2</th>\n",
       "      <td>2</td>\n",
       "      <td>kerneler_starter-portrait-segmentation-b08b391...</td>\n",
       "      <td>11413234</td>\n",
       "      <td>7.0</td>\n",
       "      <td># Distribution graphs (histogram/bar graph) of...</td>\n",
       "      <td>NaN</td>\n",
       "      <td>3.0</td>\n",
       "    </tr>\n",
       "    <tr>\n",
       "      <th>3</th>\n",
       "      <td>3</td>\n",
       "      <td>kerneler_starter-portrait-segmentation-b08b391...</td>\n",
       "      <td>11413234</td>\n",
       "      <td>8.0</td>\n",
       "      <td># Correlation matrix\\ndef plotCorrelationMatri...</td>\n",
       "      <td>NaN</td>\n",
       "      <td>4.0</td>\n",
       "    </tr>\n",
       "    <tr>\n",
       "      <th>4</th>\n",
       "      <td>4</td>\n",
       "      <td>kerneler_starter-portrait-segmentation-b08b391...</td>\n",
       "      <td>11413234</td>\n",
       "      <td>9.0</td>\n",
       "      <td># Scatter and density plots\\ndef plotScatterMa...</td>\n",
       "      <td>NaN</td>\n",
       "      <td>5.0</td>\n",
       "    </tr>\n",
       "  </tbody>\n",
       "</table>\n",
       "</div>"
      ],
      "text/plain": [
       "   Unnamed: 0                                       project_name project_ID  \\\n",
       "0           0  kerneler_starter-portrait-segmentation-b08b391...   11413234   \n",
       "1           1  kerneler_starter-portrait-segmentation-b08b391...   11413234   \n",
       "2           2  kerneler_starter-portrait-segmentation-b08b391...   11413234   \n",
       "3           3  kerneler_starter-portrait-segmentation-b08b391...   11413234   \n",
       "4           4  kerneler_starter-portrait-segmentation-b08b391...   11413234   \n",
       "\n",
       "  cell_index                                             source output_type  \\\n",
       "0        3.0  from mpl_toolkits.mplot3d import Axes3D\\nfrom ...         NaN   \n",
       "1        5.0  for dirname, _, filenames in os.walk('/kaggle/...      stream   \n",
       "2        7.0  # Distribution graphs (histogram/bar graph) of...         NaN   \n",
       "3        8.0  # Correlation matrix\\ndef plotCorrelationMatri...         NaN   \n",
       "4        9.0  # Scatter and density plots\\ndef plotScatterMa...         NaN   \n",
       "\n",
       "   execution_count  \n",
       "0              1.0  \n",
       "1              2.0  \n",
       "2              3.0  \n",
       "3              4.0  \n",
       "4              5.0  "
      ]
     },
     "execution_count": 13,
     "metadata": {},
     "output_type": "execute_result"
    }
   ],
   "source": [
    "Code_df.head()"
   ]
  },
  {
   "cell_type": "code",
   "execution_count": 26,
   "metadata": {},
   "outputs": [
    {
     "data": {
      "text/plain": [
       "5072599"
      ]
     },
     "execution_count": 26,
     "metadata": {},
     "output_type": "execute_result"
    }
   ],
   "source": [
    "len(Code_df)"
   ]
  },
  {
   "cell_type": "code",
   "execution_count": 2,
   "metadata": {},
   "outputs": [
    {
     "data": {
      "text/plain": [
       "Index(['Unnamed: 0', 'project_name', 'project_ID', 'cell_index', 'source',\n",
       "       'output_type', 'execution_count'],\n",
       "      dtype='object')"
      ]
     },
     "execution_count": 2,
     "metadata": {},
     "output_type": "execute_result"
    }
   ],
   "source": [
    "Code_df.columns"
   ]
  },
  {
   "cell_type": "markdown",
   "metadata": {},
   "source": [
    "## clculate code cell metrics"
   ]
  },
  {
   "cell_type": "code",
   "execution_count": 38,
   "metadata": {},
   "outputs": [],
   "source": [
    "Code_df['LOC'] = Code_df['source'].apply(lambda x: x.count('\\n')+1 if type(x)==str else 0)"
   ]
  },
  {
   "cell_type": "code",
   "execution_count": 39,
   "metadata": {},
   "outputs": [],
   "source": [
    "Code_df['BLC'] = Code_df['LOC'].apply(lambda x:1 if x==0 else 0)"
   ]
  },
  {
   "cell_type": "code",
   "execution_count": 55,
   "metadata": {},
   "outputs": [],
   "source": [
    "Code_df['UDF'] = Code_df['source'].apply(lambda x: sum([len(re.findall('^(?!#).*def ', y)) for y in x.split('\\n')]) if type(x)==str else 0)"
   ]
  },
  {
   "cell_type": "code",
   "execution_count": 59,
   "metadata": {},
   "outputs": [],
   "source": [
    "Code_df['I'] = Code_df['source'].apply(lambda x: x.count('import ') if type(x)==str else 0)"
   ]
  },
  {
   "cell_type": "code",
   "execution_count": 58,
   "metadata": {},
   "outputs": [],
   "source": [
    "Code_df['EH'] = Code_df['source'].apply(lambda x: x.count('try:')  if type(x)==str else 0)"
   ]
  },
  {
   "cell_type": "code",
   "execution_count": 61,
   "metadata": {},
   "outputs": [],
   "source": [
    "import statistics as sts\n",
    "Code_df['ALLC'] = Code_df['source'].apply(lambda x: sts.mean([len(y) for y in x.split('\\n')]) if type(x)==str else 0)"
   ]
  },
  {
   "cell_type": "code",
   "execution_count": 70,
   "metadata": {},
   "outputs": [
    {
     "name": "stderr",
     "output_type": "stream",
     "text": [
      "100%|████████████████████████████████████████████████████████████████████| 5072599/5072599 [00:09<00:00, 517620.82it/s]\n"
     ]
    }
   ],
   "source": [
    "Code_df['NDD'] = Code_df['output_type'].progress_apply(lambda x: x.count('display_data') if type(x)==str else 0)"
   ]
  },
  {
   "cell_type": "code",
   "execution_count": 71,
   "metadata": {},
   "outputs": [
    {
     "name": "stderr",
     "output_type": "stream",
     "text": [
      "100%|████████████████████████████████████████████████████████████████████| 5072599/5072599 [00:09<00:00, 543870.83it/s]\n"
     ]
    }
   ],
   "source": [
    "Code_df['NEC'] = Code_df['output_type'].progress_apply(lambda x: x.count('execute_result') if type(x)==str else 0)"
   ]
  },
  {
   "cell_type": "code",
   "execution_count": 75,
   "metadata": {
    "scrolled": true
   },
   "outputs": [
    {
     "data": {
      "text/plain": [
       "Index(['Unnamed: 0', 'project_name', 'project_ID', 'cell_index', 'source',\n",
       "       'output_type', 'execution_count', 'LOC', 'BLC', 'UDF', 'I', 'EH',\n",
       "       'ALLC', 'NDD', 'NEC'],\n",
       "      dtype='object')"
      ]
     },
     "execution_count": 75,
     "metadata": {},
     "output_type": "execute_result"
    }
   ],
   "source": [
    "Code_df.columns"
   ]
  },
  {
   "cell_type": "markdown",
   "metadata": {},
   "source": [
    "Extract number of operator"
   ]
  },
  {
   "cell_type": "code",
   "execution_count": 193,
   "metadata": {},
   "outputs": [],
   "source": [
    "#extract number of python operators from text\n",
    "def extract_operator_count(text):\n",
    "    operators = [\n",
    "        '+', '-', '*', '/', '**', '%', '//',\n",
    "        '=', '+=', '-=', '*=', '/=', '%=', '//=', '**=',\n",
    "        '&=', '|=', '^=', '>>=', '<<=',\n",
    "        '==', '!=', '>=', '<=', '>', '<',\n",
    "        ' and ', ' or ', ' not ',\n",
    "        ' is ', ' is not ',\n",
    "        ' in ', ' not in ',\n",
    "        '&', '|', '^', '~', '<<', '>>',\n",
    "\n",
    "    ]\n",
    "    count = 0\n",
    "    for operator in operators:\n",
    "        count += text.count(operator)\n",
    "    return count\n",
    "\n",
    "def extract_unique_operator_count(text):\n",
    "    operators = [\n",
    "        '+', '-', '*', '/', '**', '%', '//',\n",
    "        '=', '+=', '-=', '*=', '/=', '%=', '//=', '**=',\n",
    "        '&=', '|=', '^=', '>>=', '<<=',\n",
    "        '==', '!=', '>=', '<=', '>', '<',\n",
    "        ' and ', ' or ', ' not ',\n",
    "        ' is ', ' is not ',\n",
    "        ' in ', ' not in ',\n",
    "        '&', '|', '^', '~', '<<', '>>',\n",
    "\n",
    "    ]\n",
    "    unique_count = 0\n",
    "    for operator in operators:\n",
    "        if text.count(operator) > 0:\n",
    "            unique_count += 1\n",
    "    return unique_count\n",
    "    \n",
    "\n",
    "#https://www.w3schools.com/python/python_operators.asp"
   ]
  },
  {
   "cell_type": "code",
   "execution_count": 194,
   "metadata": {},
   "outputs": [],
   "source": [
    "#remove file address from string\n",
    "def remove_file_address(text): \n",
    "    text = re.sub(r'\\S*[\\\\|/]\\S*', '', text)\n",
    "    return text\n",
    "\n",
    "def remove_ampersand(text):\n",
    "    text = re.sub(r'%[a-zA-Z]+', '', text)\n",
    "    return text\n",
    "\n",
    "def remove_extras(text):\n",
    "    text = remove_ampersand(text)\n",
    "    text = remove_file_address(text)\n",
    "    return text"
   ]
  },
  {
   "cell_type": "markdown",
   "metadata": {},
   "source": [
    "Keywords count"
   ]
  },
  {
   "cell_type": "code",
   "execution_count": 195,
   "metadata": {},
   "outputs": [],
   "source": [
    "#extract python keywords from text\n",
    "def extract_keywords_count(text):\n",
    "    keywords = ['True', 'False', 'None', 'and', 'as', 'assert', 'break', 'class', 'continue', 'def', 'del', 'elif', 'else', 'except', 'finally', 'for', 'from', 'global', 'if', 'import', 'in', 'is', 'lambda', 'nonlocal', 'not', 'or', 'pass', 'raise', 'return', 'try', 'while', 'with', 'yield']\n",
    "    count = 0\n",
    "    for keywords in keywords:\n",
    "        count += text.count(keywords)\n",
    "    return count"
   ]
  },
  {
   "cell_type": "markdown",
   "metadata": {},
   "source": [
    "Identifiers"
   ]
  },
  {
   "cell_type": "code",
   "execution_count": 196,
   "metadata": {},
   "outputs": [],
   "source": [
    "keywords = ['True', 'False', 'None', 'and', 'as', 'assert', 'break', 'class', 'continue', 'def', 'del', 'elif', 'else', 'except', 'finally', 'for', 'from', 'global', 'if', 'import', 'in', 'is', 'lambda', 'nonlocal', 'not', 'or', 'pass', 'raise', 'return', 'try', 'while', 'with', 'yield']\n",
    "\n",
    "def extract_identifier_count(text):\n",
    "    count = 0\n",
    "    identifiers = re.findall(r'[a-zA-Z_][a-zA-Z0-9_]*', text)\n",
    "    for identifier in identifiers:\n",
    "        if identifier not in keywords:\n",
    "            count += 1\n",
    "    return count"
   ]
  },
  {
   "cell_type": "code",
   "execution_count": 197,
   "metadata": {},
   "outputs": [],
   "source": [
    "def extract_avg_len_identifier(text):\n",
    "    iden_lens = []\n",
    "    identifiers = re.findall(r'[a-zA-Z_][a-zA-Z0-9_]*', text)\n",
    "    for identifier in identifiers:\n",
    "        if identifier not in keywords:\n",
    "            iden_lens.append(len(identifier))\n",
    "    if len(iden_lens) == 0:\n",
    "        return 0\n",
    "    return sum(iden_lens) // len (iden_lens)\n",
    "\n",
    "def extract_max_len_identifier(text):\n",
    "    iden_lens = []\n",
    "    identifiers = re.findall(r'[a-zA-Z_][a-zA-Z0-9_]*', text)\n",
    "    for identifier in identifiers:\n",
    "        if identifier not in keywords:\n",
    "            iden_lens.append(len(identifier))\n",
    "    if len(iden_lens) == 0:\n",
    "        return 0\n",
    "    return max(iden_lens)"
   ]
  },
  {
   "cell_type": "markdown",
   "metadata": {},
   "source": [
    "KLCID"
   ]
  },
  {
   "cell_type": "code",
   "execution_count": 198,
   "metadata": {},
   "outputs": [],
   "source": [
    "def extract_unique_lines_of_code(text):\n",
    "    lines = text.split('\\n')\n",
    "    return set(lines)\n",
    "\n",
    "def klcid(text):\n",
    "    unique_lines_code = extract_unique_lines_of_code(text)\n",
    "    iden_count = []\n",
    "    for line in unique_lines_code:\n",
    "        iden_count.append(extract_identifier_count(line))\n",
    "    unique_lines_code_with_iden = []\n",
    "    for line in unique_lines_code:\n",
    "        if extract_identifier_count(line) > 0:\n",
    "            unique_lines_code_with_iden.append(line)\n",
    "    if len(unique_lines_code_with_iden) == 0:\n",
    "        return 0\n",
    "    return sum(iden_count) / len(unique_lines_code_with_iden)\n",
    "\n",
    "\n",
    "# Klemola, T. & Rilling, Juergen. (2003). A cognitive complexity metric based on category learning."
   ]
  },
  {
   "cell_type": "markdown",
   "metadata": {},
   "source": [
    "Extract operands"
   ]
  },
  {
   "cell_type": "code",
   "execution_count": 199,
   "metadata": {},
   "outputs": [],
   "source": [
    "def extract_operand_count(string):\n",
    "    res = re.split(r'''[\\-()\\+\\*\\/\\=\\&\\|\\^\\~\\<\\>\\%]|\n",
    "    \\*\\*|\\/\\/|\n",
    "    \\>\\>|\\<\\<|\n",
    "    \\+\\=|\\-\\=|\\*\\=|\\/\\=|\\%\\=|\n",
    "    \\/\\/\\=|\\*\\*\\=\n",
    "    \\&\\=|\\|\\=|\\^\\=|\\>\\>\\=|\\>\\>\\=|\n",
    "    \\=\\=|\\!\\=|\\>\\=''', string)\n",
    "    res = list(filter(None, res))\n",
    "    return len(res)\n",
    "\n"
   ]
  },
  {
   "cell_type": "code",
   "execution_count": 200,
   "metadata": {},
   "outputs": [],
   "source": [
    "def extract_unique_operand_count(string):\n",
    "    res = re.split(r'''[\\-()\\+\\*\\/\\=\\&\\|\\^\\~\\<\\>\\%]|\n",
    "    \\*\\*|\\/\\/|\n",
    "    \\>\\>|\\<\\<|\n",
    "    \\+\\=|\\-\\=|\\*\\=|\\/\\=|\\%\\=|\n",
    "    \\/\\/\\=|\\*\\*\\=\n",
    "    \\&\\=|\\|\\=|\\^\\=|\\>\\>\\=|\\>\\>\\=|\n",
    "    \\=\\=|\\!\\=|\\>\\=''', string)\n",
    "    res = list(filter(None, res))\n",
    "    return len(set(res))"
   ]
  },
  {
   "cell_type": "markdown",
   "metadata": {},
   "source": [
    "Count python argument"
   ]
  },
  {
   "cell_type": "code",
   "execution_count": 201,
   "metadata": {},
   "outputs": [],
   "source": [
    "s = 'def salam(a,b,c):\\n    return a+b+c def salam2(x,y,z):\\n    return a+b+c'\n",
    "# def python_arguments(string):\n",
    "#     args = []\n",
    "#     args_regex = re.compile(\n",
    "#             r'''(\n",
    "#                 def*\\W(\\w+)([\\w\\W]*?)\\((.*?)\\)\n",
    "#             )''',\n",
    "#             flags=re.DOTALL | re.VERBOSE | re.MULTILINE\n",
    "#         )\n",
    "\n",
    "#     s = re.findall(args_regex, string)\n",
    "#     z = [i[0] for i in s]\n",
    "#     for i in z:\n",
    "#         args = args + re.search(r'\\((.*?)\\)',i).group(1).split(',')\n",
    "#     return args\n",
    "\n",
    "\n",
    "\n",
    "def python_arguments(string):\n",
    "    args = []\n",
    "    args_regex = re.compile(\n",
    "            r'''(\n",
    "                [a-zA-Z_][a-zA-Z0-9_]*\\((.*?)\\)\n",
    "            )''',\n",
    "            flags=re.DOTALL | re.VERBOSE | re.MULTILINE\n",
    "        )\n",
    "    try:\n",
    "        s = re.findall(args_regex, string)\n",
    "        z = [i[0] for i in s]\n",
    "        for i in z:\n",
    "            args = args + re.search(r'\\((.*?)\\)',i).group(1).split(',')\n",
    "        return len(args)\n",
    "    except:\n",
    "        return 0"
   ]
  },
  {
   "cell_type": "markdown",
   "metadata": {},
   "source": [
    "Loop and condition statements"
   ]
  },
  {
   "cell_type": "code",
   "execution_count": 205,
   "metadata": {},
   "outputs": [],
   "source": [
    "def extract_loop_statements_count(text):\n",
    "    keywords = ['while', 'for']\n",
    "    count = 0\n",
    "    for keywords in keywords:\n",
    "        count += text.count(keywords)\n",
    "    return count\n",
    "\n",
    "def extract_if_statements_count(text):\n",
    "    keywords = ['if']\n",
    "    count = 0\n",
    "    for keywords in keywords:\n",
    "        count += text.count(keywords)\n",
    "    return count\n",
    "\n",
    "def statements_count(text):\n",
    "    return extract_loop_statements_count(text) + extract_if_statements_count(text)"
   ]
  },
  {
   "cell_type": "markdown",
   "metadata": {},
   "source": [
    "nested depth block"
   ]
  },
  {
   "cell_type": "code",
   "execution_count": 210,
   "metadata": {},
   "outputs": [],
   "source": [
    "def nested_depth(text):\n",
    "    blocks = text.split('\\n')\n",
    "    depth = []\n",
    "    for block in blocks:\n",
    "        depth.append(block.count(' '))\n",
    "    return sum(depth) / len(depth)"
   ]
  },
  {
   "cell_type": "code",
   "execution_count": null,
   "metadata": {},
   "outputs": [],
   "source": [
    "import radon\n",
    "\n",
    "from radon.visitors import ComplexityVisitor\n",
    "def complexity_analysis(source):\n",
    "    v = ComplexityVisitor.from_code(source)\n",
    "    return v.complexity\n",
    "def complexity_analysis2(source):\n",
    "    source_new = source.replace('%matplotlib inline', '')\n",
    "    try:\n",
    "        v = ComplexityVisitor.from_code(source_new)\n",
    "        return v.complexity\n",
    "    except Exception as e:\n",
    "        # print(e)\n",
    "        return 0"
   ]
  },
  {
   "cell_type": "markdown",
   "metadata": {},
   "source": [
    "External API Popularity"
   ]
  },
  {
   "cell_type": "code",
   "execution_count": null,
   "metadata": {},
   "outputs": [],
   "source": [
    "def capture_imports(source_code):\n",
    "    import_regex = r\"^\\s*(?:from|import)\\s+(\\w+(?:\\s*,\\s*\\w+)*)\"\n",
    "    # Find all import statements\n",
    "    import_matches = re.findall(import_regex, source_code, re.MULTILINE)\n",
    "    for i in import_matches:\n",
    "        if ',' in i:\n",
    "            new_i = i.replace(' ', '').split(',')\n",
    "            import_matches.extend(new_i)\n",
    "            import_matches.remove(i)\n",
    "    return import_matches\n",
    "code_df['API'] = code_df['source'].apply(lambda x: capture_imports(str(x))) "
   ]
  },
  {
   "cell_type": "code",
   "execution_count": null,
   "metadata": {},
   "outputs": [],
   "source": [
    "import collections\n",
    "\n",
    "l = code_df['API'].values.tolist()\n",
    "flat_list = [item for sublist in l for item in sublist]\n",
    "eap_dict = dict(collections.Counter(flat_list))\n",
    "eap_score_dict = dict(sorted(eap_dict.items(), key=lambda item: item[1], reverse=True))\n",
    "max_freq = eap_dict['sklearn']\n",
    "for k, v in eap_score_dict.items():\n",
    "    eap_score_dict[k] = v / max_freq\n",
    "def eap_score(ap_list):\n",
    "    score = 0\n",
    "    for i in ap_list:\n",
    "        score += eap_score_dict.get(i, 0)\n",
    "    return score\n",
    "code_df['EAP'] = code_df['API'].apply(lambda x: eap_score(set(x)))   "
   ]
  },
  {
   "cell_type": "code",
   "execution_count": 206,
   "metadata": {},
   "outputs": [
    {
     "name": "stderr",
     "output_type": "stream",
     "text": [
      "100%|████████████████████████████████████████████████████████████████████| 5072599/5072599 [00:24<00:00, 208959.55it/s]\n"
     ]
    }
   ],
   "source": [
    "Code_df['S'] = Code_df['source'].progress_apply(lambda x: statements_count(str(x)))"
   ]
  },
  {
   "cell_type": "code",
   "execution_count": 207,
   "metadata": {},
   "outputs": [
    {
     "name": "stderr",
     "output_type": "stream",
     "text": [
      "100%|█████████████████████████████████████████████████████████████████████| 5072599/5072599 [03:47<00:00, 22342.44it/s]\n"
     ]
    }
   ],
   "source": [
    "Code_df['P'] = Code_df['source'].progress_apply(lambda x: python_arguments(str(x)))\n"
   ]
  },
  {
   "cell_type": "code",
   "execution_count": 208,
   "metadata": {},
   "outputs": [
    {
     "name": "stderr",
     "output_type": "stream",
     "text": [
      "100%|██████████████████████████████████████████████████████████████████████| 5072599/5072599 [08:32<00:00, 9890.18it/s]\n"
     ]
    }
   ],
   "source": [
    "Code_df['KLCID'] = Code_df['source'].progress_apply(lambda x: klcid(str(x)))\n"
   ]
  },
  {
   "cell_type": "code",
   "execution_count": 211,
   "metadata": {},
   "outputs": [
    {
     "name": "stderr",
     "output_type": "stream",
     "text": [
      "100%|████████████████████████████████████████████████████████████████████| 5072599/5072599 [00:37<00:00, 134052.85it/s]\n"
     ]
    }
   ],
   "source": [
    "Code_df['NBD'] = Code_df['source'].progress_apply(lambda x: nested_depth(str(x)))\n"
   ]
  },
  {
   "cell_type": "code",
   "execution_count": 213,
   "metadata": {},
   "outputs": [
    {
     "name": "stderr",
     "output_type": "stream",
     "text": [
      "100%|█████████████████████████████████████████████████████████████████████| 5072599/5072599 [03:15<00:00, 26003.97it/s]\n"
     ]
    }
   ],
   "source": [
    "Code_df['OPRND'] = Code_df['source'].progress_apply(lambda x: extract_operand_count(str(x)))\n"
   ]
  },
  {
   "cell_type": "code",
   "execution_count": 214,
   "metadata": {},
   "outputs": [
    {
     "data": {
      "text/plain": [
       "Index(['Unnamed: 0', 'project_name', 'project_ID', 'cell_index', 'source',\n",
       "       'output_type', 'execution_count', 'LOC', 'BLC', 'UDF', 'I', 'EH',\n",
       "       'ALLC', 'NDD', 'NEC', 'S', 'P', 'KLCID', 'NBD', 'OPRND'],\n",
       "      dtype='object')"
      ]
     },
     "execution_count": 214,
     "metadata": {},
     "output_type": "execute_result"
    }
   ],
   "source": [
    "Code_df.columnsumns"
   ]
  },
  {
   "cell_type": "code",
   "execution_count": 215,
   "metadata": {},
   "outputs": [
    {
     "name": "stderr",
     "output_type": "stream",
     "text": [
      "100%|█████████████████████████████████████████████████████████████████████| 5072599/5072599 [01:47<00:00, 47378.36it/s]\n"
     ]
    }
   ],
   "source": [
    "Code_df['OPRATOR'] = Code_df['source'].progress_apply(lambda x: extract_operator_count(str(x)))\n"
   ]
  },
  {
   "cell_type": "code",
   "execution_count": 216,
   "metadata": {},
   "outputs": [
    {
     "name": "stderr",
     "output_type": "stream",
     "text": [
      "100%|█████████████████████████████████████████████████████████████████████| 5072599/5072599 [03:25<00:00, 24658.24it/s]\n"
     ]
    }
   ],
   "source": [
    "Code_df['UOPRND'] = Code_df['source'].progress_apply(lambda x: extract_unique_operand_count(str(x)))\n"
   ]
  },
  {
   "cell_type": "code",
   "execution_count": 217,
   "metadata": {},
   "outputs": [
    {
     "name": "stderr",
     "output_type": "stream",
     "text": [
      "100%|█████████████████████████████████████████████████████████████████████| 5072599/5072599 [01:44<00:00, 48648.13it/s]\n"
     ]
    }
   ],
   "source": [
    "Code_df['UOPRATOR'] = Code_df['source'].progress_apply(lambda x: extract_unique_operator_count(str(x)))\n"
   ]
  },
  {
   "cell_type": "code",
   "execution_count": 218,
   "metadata": {},
   "outputs": [
    {
     "name": "stderr",
     "output_type": "stream",
     "text": [
      "100%|█████████████████████████████████████████████████████████████████████| 5072599/5072599 [03:11<00:00, 26476.25it/s]\n"
     ]
    }
   ],
   "source": [
    "Code_df['ID'] = Code_df['source'].progress_apply(lambda x: extract_identifier_count(str(x)))\n"
   ]
  },
  {
   "cell_type": "code",
   "execution_count": 219,
   "metadata": {},
   "outputs": [
    {
     "name": "stderr",
     "output_type": "stream",
     "text": [
      "100%|█████████████████████████████████████████████████████████████████████| 5072599/5072599 [03:31<00:00, 23945.08it/s]\n"
     ]
    }
   ],
   "source": [
    "Code_df['ALID'] = Code_df['source'].progress_apply(lambda x: extract_avg_len_identifier(str(x)))\n"
   ]
  },
  {
   "cell_type": "code",
   "execution_count": 220,
   "metadata": {},
   "outputs": [
    {
     "name": "stderr",
     "output_type": "stream",
     "text": [
      "100%|█████████████████████████████████████████████████████████████████████| 5072599/5072599 [03:34<00:00, 23649.18it/s]\n"
     ]
    }
   ],
   "source": [
    "Code_df['MLID'] = Code_df['source'].progress_apply(lambda x: extract_max_len_identifier(str(x)))\n"
   ]
  },
  {
   "cell_type": "code",
   "execution_count": null,
   "metadata": {},
   "outputs": [],
   "source": [
    "code_df ['CyC'] = code_df['source'].progress_apply(lambda x: complexity_analysis2(str(x)))\n"
   ]
  },
  {
   "cell_type": "markdown",
   "metadata": {},
   "source": [
    "## comment metrics"
   ]
  },
  {
   "cell_type": "markdown",
   "metadata": {},
   "source": [
    "#### Count inline comments"
   ]
  },
  {
   "cell_type": "code",
   "execution_count": 221,
   "metadata": {},
   "outputs": [],
   "source": [
    "def count_inline_comment(string: str) -> str:\n",
    "    inline_regex = re.compile(\n",
    "        r'''(\n",
    "            (?<=\\#).+ # comments like: # This is a comment\n",
    "        )''',\n",
    "        flags=re.VERBOSE\n",
    "    )\n",
    "    # return inline_regex.sub('', string)\n",
    "\n",
    "    return len(re.findall(inline_regex, string))\n",
    "\n",
    "def multi_line_comments(string: str) -> str:\n",
    "\n",
    "    # Python comments\n",
    "    multi_line_python_regex = re.compile(\n",
    "        r'''(\n",
    "            (?<=\\n)\\'{3}.*?\\'{3}(?=\\s*\\n) |\n",
    "            (?<=^)\\'{3}.*?\\'{3}(?=\\s*\\n) |\n",
    "            (?<=\\n)\\'{3}.*?\\'{3}(?=$) |\n",
    "            (?<=^)\\'{3}.*?\\'{3}(?=$) |\n",
    "            (?<=\\n)\\\"{3}.*?\\\"{3}(?=\\s*\\n) |\n",
    "            (?<=^)\\\"{3}.*?\\\"{3}(?=\\s*\\n) |\n",
    "            (?<=\\n)\\\"{3}.*?\\\"{3}(?=$) |\n",
    "            (?<=^)\\\"{3}.*?\\\"{3}(?=$)\n",
    "        )''',\n",
    "        flags=re.DOTALL | re.VERBOSE | re.MULTILINE\n",
    "    )\n",
    "    python_multi_line_count = re.findall(multi_line_python_regex, string)\n",
    "\n",
    "\n",
    "    return python_multi_line_count\n",
    "\n",
    "def extract_line_comments(text):\n",
    "    multi_lines_lines = []\n",
    "    multi_lines = multi_line_comments(text)\n",
    "    for line in multi_lines:\n",
    "        multi_lines_lines += line.split('\\n')\n",
    "    return len(multi_lines_lines) + count_inline_comment(text) \n",
    "    \n",
    "def count_comment_word(text):\n",
    "    comment_word_count = 0\n",
    "    comments = re.findall(r'(?<=\\#).+', text)\n",
    "    for comment in comments:\n",
    "        comment_word_count += len(comment.split())\n",
    "    return comment_word_count"
   ]
  },
  {
   "cell_type": "code",
   "execution_count": 222,
   "metadata": {},
   "outputs": [
    {
     "name": "stderr",
     "output_type": "stream",
     "text": [
      "100%|██████████████████████████████████████████████████████████████████████| 5072599/5072599 [09:22<00:00, 9014.44it/s]\n"
     ]
    }
   ],
   "source": [
    "Code_df['LOCom'] = Code_df['source'].progress_apply(lambda x: extract_line_comments(str(x)))\n"
   ]
  },
  {
   "cell_type": "code",
   "execution_count": 223,
   "metadata": {},
   "outputs": [
    {
     "name": "stderr",
     "output_type": "stream",
     "text": [
      "100%|█████████████████████████████████████████████████████████████████████| 5072599/5072599 [00:57<00:00, 87685.67it/s]\n"
     ]
    }
   ],
   "source": [
    "Code_df['CW'] = Code_df['source'].progress_apply(lambda x: count_comment_word(str(x)))\n"
   ]
  },
  {
   "cell_type": "code",
   "execution_count": 224,
   "metadata": {},
   "outputs": [
    {
     "data": {
      "text/html": [
       "<div>\n",
       "<style scoped>\n",
       "    .dataframe tbody tr th:only-of-type {\n",
       "        vertical-align: middle;\n",
       "    }\n",
       "\n",
       "    .dataframe tbody tr th {\n",
       "        vertical-align: top;\n",
       "    }\n",
       "\n",
       "    .dataframe thead th {\n",
       "        text-align: right;\n",
       "    }\n",
       "</style>\n",
       "<table border=\"1\" class=\"dataframe\">\n",
       "  <thead>\n",
       "    <tr style=\"text-align: right;\">\n",
       "      <th></th>\n",
       "      <th>Unnamed: 0</th>\n",
       "      <th>project_name</th>\n",
       "      <th>project_ID</th>\n",
       "      <th>cell_index</th>\n",
       "      <th>source</th>\n",
       "      <th>output_type</th>\n",
       "      <th>execution_count</th>\n",
       "      <th>LOC</th>\n",
       "      <th>BLC</th>\n",
       "      <th>UDF</th>\n",
       "      <th>...</th>\n",
       "      <th>NBD</th>\n",
       "      <th>OPRND</th>\n",
       "      <th>OPRATOR</th>\n",
       "      <th>UOPRND</th>\n",
       "      <th>UOPRATOR</th>\n",
       "      <th>ID</th>\n",
       "      <th>ALID</th>\n",
       "      <th>MLID</th>\n",
       "      <th>LOCom</th>\n",
       "      <th>CW</th>\n",
       "    </tr>\n",
       "  </thead>\n",
       "  <tbody>\n",
       "    <tr>\n",
       "      <th>0</th>\n",
       "      <td>0</td>\n",
       "      <td>kerneler_starter-portrait-segmentation-b08b391...</td>\n",
       "      <td>11413234</td>\n",
       "      <td>3.0</td>\n",
       "      <td>from mpl_toolkits.mplot3d import Axes3D\\nfrom ...</td>\n",
       "      <td>NaN</td>\n",
       "      <td>1.0</td>\n",
       "      <td>7</td>\n",
       "      <td>0</td>\n",
       "      <td>0</td>\n",
       "      <td>...</td>\n",
       "      <td>4.714286</td>\n",
       "      <td>4</td>\n",
       "      <td>1</td>\n",
       "      <td>4</td>\n",
       "      <td>1</td>\n",
       "      <td>30</td>\n",
       "      <td>5</td>\n",
       "      <td>14</td>\n",
       "      <td>4</td>\n",
       "      <td>13</td>\n",
       "    </tr>\n",
       "    <tr>\n",
       "      <th>1</th>\n",
       "      <td>1</td>\n",
       "      <td>kerneler_starter-portrait-segmentation-b08b391...</td>\n",
       "      <td>11413234</td>\n",
       "      <td>5.0</td>\n",
       "      <td>for dirname, _, filenames in os.walk('/kaggle/...</td>\n",
       "      <td>stream</td>\n",
       "      <td>2.0</td>\n",
       "      <td>4</td>\n",
       "      <td>0</td>\n",
       "      <td>0</td>\n",
       "      <td>...</td>\n",
       "      <td>5.250000</td>\n",
       "      <td>8</td>\n",
       "      <td>4</td>\n",
       "      <td>8</td>\n",
       "      <td>2</td>\n",
       "      <td>15</td>\n",
       "      <td>5</td>\n",
       "      <td>9</td>\n",
       "      <td>0</td>\n",
       "      <td>0</td>\n",
       "    </tr>\n",
       "    <tr>\n",
       "      <th>2</th>\n",
       "      <td>2</td>\n",
       "      <td>kerneler_starter-portrait-segmentation-b08b391...</td>\n",
       "      <td>11413234</td>\n",
       "      <td>7.0</td>\n",
       "      <td># Distribution graphs (histogram/bar graph) of...</td>\n",
       "      <td>NaN</td>\n",
       "      <td>3.0</td>\n",
       "      <td>22</td>\n",
       "      <td>0</td>\n",
       "      <td>1</td>\n",
       "      <td>...</td>\n",
       "      <td>10.363636</td>\n",
       "      <td>63</td>\n",
       "      <td>29</td>\n",
       "      <td>60</td>\n",
       "      <td>9</td>\n",
       "      <td>105</td>\n",
       "      <td>5</td>\n",
       "      <td>25</td>\n",
       "      <td>2</td>\n",
       "      <td>20</td>\n",
       "    </tr>\n",
       "    <tr>\n",
       "      <th>3</th>\n",
       "      <td>3</td>\n",
       "      <td>kerneler_starter-portrait-segmentation-b08b391...</td>\n",
       "      <td>11413234</td>\n",
       "      <td>8.0</td>\n",
       "      <td># Correlation matrix\\ndef plotCorrelationMatri...</td>\n",
       "      <td>NaN</td>\n",
       "      <td>4.0</td>\n",
       "      <td>18</td>\n",
       "      <td>0</td>\n",
       "      <td>1</td>\n",
       "      <td>...</td>\n",
       "      <td>7.722222</td>\n",
       "      <td>49</td>\n",
       "      <td>19</td>\n",
       "      <td>46</td>\n",
       "      <td>7</td>\n",
       "      <td>103</td>\n",
       "      <td>5</td>\n",
       "      <td>21</td>\n",
       "      <td>3</td>\n",
       "      <td>16</td>\n",
       "    </tr>\n",
       "    <tr>\n",
       "      <th>4</th>\n",
       "      <td>4</td>\n",
       "      <td>kerneler_starter-portrait-segmentation-b08b391...</td>\n",
       "      <td>11413234</td>\n",
       "      <td>9.0</td>\n",
       "      <td># Scatter and density plots\\ndef plotScatterMa...</td>\n",
       "      <td>NaN</td>\n",
       "      <td>5.0</td>\n",
       "      <td>17</td>\n",
       "      <td>0</td>\n",
       "      <td>1</td>\n",
       "      <td>...</td>\n",
       "      <td>9.823529</td>\n",
       "      <td>47</td>\n",
       "      <td>28</td>\n",
       "      <td>45</td>\n",
       "      <td>6</td>\n",
       "      <td>118</td>\n",
       "      <td>5</td>\n",
       "      <td>17</td>\n",
       "      <td>5</td>\n",
       "      <td>41</td>\n",
       "    </tr>\n",
       "  </tbody>\n",
       "</table>\n",
       "<p>5 rows × 28 columns</p>\n",
       "</div>"
      ],
      "text/plain": [
       "   Unnamed: 0                                       project_name project_ID  \\\n",
       "0           0  kerneler_starter-portrait-segmentation-b08b391...   11413234   \n",
       "1           1  kerneler_starter-portrait-segmentation-b08b391...   11413234   \n",
       "2           2  kerneler_starter-portrait-segmentation-b08b391...   11413234   \n",
       "3           3  kerneler_starter-portrait-segmentation-b08b391...   11413234   \n",
       "4           4  kerneler_starter-portrait-segmentation-b08b391...   11413234   \n",
       "\n",
       "  cell_index                                             source output_type  \\\n",
       "0        3.0  from mpl_toolkits.mplot3d import Axes3D\\nfrom ...         NaN   \n",
       "1        5.0  for dirname, _, filenames in os.walk('/kaggle/...      stream   \n",
       "2        7.0  # Distribution graphs (histogram/bar graph) of...         NaN   \n",
       "3        8.0  # Correlation matrix\\ndef plotCorrelationMatri...         NaN   \n",
       "4        9.0  # Scatter and density plots\\ndef plotScatterMa...         NaN   \n",
       "\n",
       "   execution_count  LOC  BLC  UDF  ...        NBD  OPRND  OPRATOR  UOPRND  \\\n",
       "0              1.0    7    0    0  ...   4.714286      4        1       4   \n",
       "1              2.0    4    0    0  ...   5.250000      8        4       8   \n",
       "2              3.0   22    0    1  ...  10.363636     63       29      60   \n",
       "3              4.0   18    0    1  ...   7.722222     49       19      46   \n",
       "4              5.0   17    0    1  ...   9.823529     47       28      45   \n",
       "\n",
       "   UOPRATOR   ID  ALID  MLID  LOCom  CW  \n",
       "0         1   30     5    14      4  13  \n",
       "1         2   15     5     9      0   0  \n",
       "2         9  105     5    25      2  20  \n",
       "3         7  103     5    21      3  16  \n",
       "4         6  118     5    17      5  41  \n",
       "\n",
       "[5 rows x 28 columns]"
      ]
     },
     "execution_count": 224,
     "metadata": {},
     "output_type": "execute_result"
    }
   ],
   "source": [
    "Code_df.head()"
   ]
  },
  {
   "cell_type": "code",
   "execution_count": 225,
   "metadata": {},
   "outputs": [],
   "source": [
    "Code_df.drop(columns=['Unnamed: 0']).to_csv('D:/Th/data/KGT_metrics/Code_cell_metrics.csv')"
   ]
  },
  {
   "cell_type": "code",
   "execution_count": 229,
   "metadata": {},
   "outputs": [],
   "source": [
    "del Code_df"
   ]
  },
  {
   "cell_type": "markdown",
   "metadata": {},
   "source": [
    "# Markdown cell metrics"
   ]
  },
  {
   "cell_type": "code",
   "execution_count": 227,
   "metadata": {},
   "outputs": [],
   "source": [
    "md_df = pd.read_csv('D:/Th/data/KGT_with_no_output/KGT_Markdown.csv')\n",
    "md_df.fillna('', inplace=True)\n",
    "\n",
    "# function for count headers (H1, H2 , H3)\n",
    "def header1_counter(text):\n",
    "    count = 0\n",
    "    if text[0:2] =='# ':\n",
    "        count += 1\n",
    "    for i in range(len(text)-2):\n",
    "        if text[i:i+3] ==' # ' or text[i:i+3] == '\\n# ':\n",
    "            count +=1\n",
    "    return count\n",
    "def header2_counter(text):\n",
    "    count = 0\n",
    "    if text[0:3] =='## ':\n",
    "        count += 1\n",
    "    for i in range(len(text)-2):\n",
    "        if text[i:i+4] ==' ## ' or text[i:i+4] == '\\n## ':\n",
    "            count +=1\n",
    "    return count\n",
    "def header3_counter(text):\n",
    "    count = 0\n",
    "    if text[0:4] =='### ':\n",
    "        count += 1\n",
    "    for i in range(len(text)-3):\n",
    "        if text[i:i+5] ==' ### ' or text[i:i+5] == '\\n### ':\n",
    "            count +=1\n",
    "    return count"
   ]
  },
  {
   "cell_type": "code",
   "execution_count": 242,
   "metadata": {},
   "outputs": [],
   "source": [
    "def count_md_word(text):\n",
    "    return len(text.split())"
   ]
  },
  {
   "cell_type": "code",
   "execution_count": 2,
   "metadata": {},
   "outputs": [],
   "source": [
    "md_df['LMC'] = md_df['source'].apply(lambda x: len(re.findall('\\n', x))+1 if type(x)==str else 0)"
   ]
  },
  {
   "cell_type": "code",
   "execution_count": 228,
   "metadata": {},
   "outputs": [
    {
     "name": "stderr",
     "output_type": "stream",
     "text": [
      "100%|██████████████████████████████████████████████████████████████████████| 2439853/2439853 [04:35<00:00, 8840.20it/s]\n"
     ]
    }
   ],
   "source": [
    "md_df['H1'] = md_df['source'].progress_apply(header1_counter)"
   ]
  },
  {
   "cell_type": "code",
   "execution_count": 230,
   "metadata": {},
   "outputs": [
    {
     "name": "stderr",
     "output_type": "stream",
     "text": [
      "100%|██████████████████████████████████████████████████████████████████████| 2439853/2439853 [04:22<00:00, 9288.21it/s]\n"
     ]
    }
   ],
   "source": [
    "md_df['H2'] = md_df['source'].progress_apply(header2_counter)"
   ]
  },
  {
   "cell_type": "code",
   "execution_count": 231,
   "metadata": {},
   "outputs": [
    {
     "name": "stderr",
     "output_type": "stream",
     "text": [
      "100%|██████████████████████████████████████████████████████████████████████| 2439853/2439853 [04:20<00:00, 9350.14it/s]\n"
     ]
    }
   ],
   "source": [
    "md_df['H3'] = md_df['source'].progress_apply(header3_counter)"
   ]
  },
  {
   "cell_type": "code",
   "execution_count": 244,
   "metadata": {},
   "outputs": [
    {
     "name": "stderr",
     "output_type": "stream",
     "text": [
      "100%|████████████████████████████████████████████████████████████████████| 2439853/2439853 [00:13<00:00, 185070.83it/s]\n"
     ]
    }
   ],
   "source": [
    "md_df['MW'] = md_df['source'].progress_apply(lambda x: count_md_word(str(x)))"
   ]
  },
  {
   "cell_type": "code",
   "execution_count": null,
   "metadata": {},
   "outputs": [],
   "source": [
    "md_df['LMC'] = md_df['source'].apply(lambda x: )"
   ]
  },
  {
   "cell_type": "code",
   "execution_count": 251,
   "metadata": {},
   "outputs": [
    {
     "data": {
      "text/html": [
       "<div>\n",
       "<style scoped>\n",
       "    .dataframe tbody tr th:only-of-type {\n",
       "        vertical-align: middle;\n",
       "    }\n",
       "\n",
       "    .dataframe tbody tr th {\n",
       "        vertical-align: top;\n",
       "    }\n",
       "\n",
       "    .dataframe thead th {\n",
       "        text-align: right;\n",
       "    }\n",
       "</style>\n",
       "<table border=\"1\" class=\"dataframe\">\n",
       "  <thead>\n",
       "    <tr style=\"text-align: right;\">\n",
       "      <th></th>\n",
       "      <th>Unnamed: 0</th>\n",
       "      <th>project_name</th>\n",
       "      <th>project_ID</th>\n",
       "      <th>cell_index</th>\n",
       "      <th>source</th>\n",
       "      <th>H1</th>\n",
       "      <th>H2</th>\n",
       "      <th>H3</th>\n",
       "      <th>MW</th>\n",
       "      <th>LOCom</th>\n",
       "    </tr>\n",
       "  </thead>\n",
       "  <tbody>\n",
       "    <tr>\n",
       "      <th>0</th>\n",
       "      <td>0</td>\n",
       "      <td>kerneler_starter-portrait-segmentation-b08b391...</td>\n",
       "      <td>11413234.0</td>\n",
       "      <td>1</td>\n",
       "      <td>## Introduction\\nGreetings from the Kaggle bot...</td>\n",
       "      <td>0</td>\n",
       "      <td>1</td>\n",
       "      <td>0</td>\n",
       "      <td>46</td>\n",
       "      <td>2</td>\n",
       "    </tr>\n",
       "    <tr>\n",
       "      <th>1</th>\n",
       "      <td>1</td>\n",
       "      <td>kerneler_starter-portrait-segmentation-b08b391...</td>\n",
       "      <td>11413234.0</td>\n",
       "      <td>2</td>\n",
       "      <td>## Exploratory Analysis\\nTo begin this explora...</td>\n",
       "      <td>0</td>\n",
       "      <td>1</td>\n",
       "      <td>0</td>\n",
       "      <td>42</td>\n",
       "      <td>2</td>\n",
       "    </tr>\n",
       "    <tr>\n",
       "      <th>2</th>\n",
       "      <td>2</td>\n",
       "      <td>kerneler_starter-portrait-segmentation-b08b391...</td>\n",
       "      <td>11413234.0</td>\n",
       "      <td>4</td>\n",
       "      <td>There is 1 csv file in the current version of ...</td>\n",
       "      <td>0</td>\n",
       "      <td>0</td>\n",
       "      <td>0</td>\n",
       "      <td>12</td>\n",
       "      <td>2</td>\n",
       "    </tr>\n",
       "    <tr>\n",
       "      <th>3</th>\n",
       "      <td>3</td>\n",
       "      <td>kerneler_starter-portrait-segmentation-b08b391...</td>\n",
       "      <td>11413234.0</td>\n",
       "      <td>6</td>\n",
       "      <td>The next hidden code cells define functions fo...</td>\n",
       "      <td>0</td>\n",
       "      <td>0</td>\n",
       "      <td>0</td>\n",
       "      <td>24</td>\n",
       "      <td>1</td>\n",
       "    </tr>\n",
       "    <tr>\n",
       "      <th>4</th>\n",
       "      <td>4</td>\n",
       "      <td>kerneler_starter-portrait-segmentation-b08b391...</td>\n",
       "      <td>11413234.0</td>\n",
       "      <td>10</td>\n",
       "      <td>Now you're ready to read in the data and use t...</td>\n",
       "      <td>0</td>\n",
       "      <td>0</td>\n",
       "      <td>0</td>\n",
       "      <td>17</td>\n",
       "      <td>1</td>\n",
       "    </tr>\n",
       "  </tbody>\n",
       "</table>\n",
       "</div>"
      ],
      "text/plain": [
       "   Unnamed: 0                                       project_name  project_ID  \\\n",
       "0           0  kerneler_starter-portrait-segmentation-b08b391...  11413234.0   \n",
       "1           1  kerneler_starter-portrait-segmentation-b08b391...  11413234.0   \n",
       "2           2  kerneler_starter-portrait-segmentation-b08b391...  11413234.0   \n",
       "3           3  kerneler_starter-portrait-segmentation-b08b391...  11413234.0   \n",
       "4           4  kerneler_starter-portrait-segmentation-b08b391...  11413234.0   \n",
       "\n",
       "   cell_index                                             source  H1  H2  H3  \\\n",
       "0           1  ## Introduction\\nGreetings from the Kaggle bot...   0   1   0   \n",
       "1           2  ## Exploratory Analysis\\nTo begin this explora...   0   1   0   \n",
       "2           4  There is 1 csv file in the current version of ...   0   0   0   \n",
       "3           6  The next hidden code cells define functions fo...   0   0   0   \n",
       "4          10  Now you're ready to read in the data and use t...   0   0   0   \n",
       "\n",
       "   MW  LOCom  \n",
       "0  46      2  \n",
       "1  42      2  \n",
       "2  12      2  \n",
       "3  24      1  \n",
       "4  17      1  "
      ]
     },
     "execution_count": 251,
     "metadata": {},
     "output_type": "execute_result"
    }
   ],
   "source": [
    "md_df.head()"
   ]
  },
  {
   "cell_type": "code",
   "execution_count": 245,
   "metadata": {},
   "outputs": [],
   "source": [
    "md_df.drop(columns=['Unnamed: 0']).to_csv('D:/Th/data/KGT_metrics/markdown_cell_metrics.csv')"
   ]
  }
 ],
 "metadata": {
  "kernelspec": {
   "display_name": "Python 3 (ipykernel)",
   "language": "python",
   "name": "python3"
  },
  "language_info": {
   "codemirror_mode": {
    "name": "ipython",
    "version": 3
   },
   "file_extension": ".py",
   "mimetype": "text/x-python",
   "name": "python",
   "nbconvert_exporter": "python",
   "pygments_lexer": "ipython3",
   "version": "3.9.12"
  },
  "vscode": {
   "interpreter": {
    "hash": "db30ece95c4e91ccd6844215ddc0b22ebebc6b3b4b9bd71bb90c210daf7d2c9b"
   }
  }
 },
 "nbformat": 4,
 "nbformat_minor": 2
}
