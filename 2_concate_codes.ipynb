{
 "cells": [
  {
   "cell_type": "code",
   "execution_count": 1,
   "id": "6b2e5baf",
   "metadata": {},
   "outputs": [],
   "source": [
    "import pandas as pd"
   ]
  },
  {
   "cell_type": "code",
   "execution_count": 2,
   "id": "471c9eb8",
   "metadata": {},
   "outputs": [],
   "source": [
    "kg_frames= []\n",
    "for i in range(1,51):\n",
    "    f_name = \"D:/Th/Data/KGT_with_no_output/Codes/code_batch_\" + str(i)  + \"_no_output.csv\"\n",
    "    kg_data = pd.read_csv(f_name, dtype='unicode')\n",
    "    kg_frames.append(kg_data)\n",
    "    del kg_data"
   ]
  },
  {
   "cell_type": "code",
   "execution_count": 3,
   "id": "b5ce056a",
   "metadata": {},
   "outputs": [],
   "source": [
    "kg_codes = pd.concat(kg_frames)\n",
    "del kg_frames"
   ]
  },
  {
   "cell_type": "code",
   "execution_count": 4,
   "id": "84ff522b",
   "metadata": {},
   "outputs": [],
   "source": [
    "kg_codes.drop(['Unnamed: 0'], axis = 1, inplace=True)"
   ]
  },
  {
   "cell_type": "code",
   "execution_count": 5,
   "id": "35abedff",
   "metadata": {},
   "outputs": [
    {
     "data": {
      "text/plain": [
       "Index(['project_name', 'project_ID', 'cell_index', 'source', 'output_type',\n",
       "       'execution_count'],\n",
       "      dtype='object')"
      ]
     },
     "execution_count": 5,
     "metadata": {},
     "output_type": "execute_result"
    }
   ],
   "source": [
    "kg_codes.columns"
   ]
  },
  {
   "cell_type": "code",
   "execution_count": 6,
   "id": "df3f465d",
   "metadata": {},
   "outputs": [],
   "source": [
    "kg_codes.to_csv('D:/Th/Data/KGT_with_no_output/KGT_codes.csv')"
   ]
  },
  {
   "cell_type": "code",
   "execution_count": null,
   "id": "ab1a6a16",
   "metadata": {},
   "outputs": [],
   "source": [
    "del kg_codes"
   ]
  },
  {
   "cell_type": "code",
   "execution_count": 12,
   "id": "876db9e6",
   "metadata": {},
   "outputs": [],
   "source": [
    "kg_frames= []\n",
    "for i in range(1,51):\n",
    "    try:\n",
    "        f_name = \"D:/Th/Data/KGT_with_no_output/Markdowns/markdown_batch_\" + str(i) + \".csv\"\n",
    "        kg_md = pd.read_csv(f_name, dtype='unicode')\n",
    "        kg_frames.append(kg_md)\n",
    "    except:\n",
    "        pass #part 36 not exist!"
   ]
  },
  {
   "cell_type": "code",
   "execution_count": 13,
   "id": "babb0d16",
   "metadata": {},
   "outputs": [],
   "source": [
    "kg_md = pd.concat(kg_frames)\n",
    "del kg_frames"
   ]
  },
  {
   "cell_type": "code",
   "execution_count": 14,
   "id": "c0a35259",
   "metadata": {},
   "outputs": [
    {
     "data": {
      "text/plain": [
       "Index(['project_name', 'project_ID', 'cell_index', 'source'], dtype='object')"
      ]
     },
     "execution_count": 14,
     "metadata": {},
     "output_type": "execute_result"
    }
   ],
   "source": [
    "kg_md.columns"
   ]
  },
  {
   "cell_type": "code",
   "execution_count": 15,
   "id": "c7298ca9",
   "metadata": {},
   "outputs": [],
   "source": [
    "kg_md.to_csv('D:/Th/data/KGT_with_no_output/KGT_Markdown.csv')"
   ]
  }
 ],
 "metadata": {
  "kernelspec": {
   "display_name": "Python 3 (ipykernel)",
   "language": "python",
   "name": "python3"
  },
  "language_info": {
   "codemirror_mode": {
    "name": "ipython",
    "version": 3
   },
   "file_extension": ".py",
   "mimetype": "text/x-python",
   "name": "python",
   "nbconvert_exporter": "python",
   "pygments_lexer": "ipython3",
   "version": "3.9.12"
  }
 },
 "nbformat": 4,
 "nbformat_minor": 5
}
